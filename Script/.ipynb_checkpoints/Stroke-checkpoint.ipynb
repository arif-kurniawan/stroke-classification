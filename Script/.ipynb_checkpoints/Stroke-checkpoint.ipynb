{
 "cells": [
  {
   "cell_type": "code",
   "execution_count": 2,
   "metadata": {},
   "outputs": [],
   "source": [
    "# Import beberapa modul yang digunakan\n",
    "from tokenize import Ignore\n",
    "import pandas as pd\n",
    "import numpy as np\n",
    "import matplotlib.pyplot as plt\n",
    "import seaborn as sns\n",
    "import warnings\n",
    "warnings.filterwarnings('ignore')"
   ]
  },
  {
   "cell_type": "code",
   "execution_count": 3,
   "metadata": {},
   "outputs": [],
   "source": [
    "# Load data CSV\n",
    "data = pd.read_csv('../Dataset/DatasetStroke.csv')"
   ]
  },
  {
   "cell_type": "code",
   "execution_count": 4,
   "metadata": {},
   "outputs": [
    {
     "name": "stdout",
     "output_type": "stream",
     "text": [
      "<class 'pandas.core.frame.DataFrame'>\n",
      "RangeIndex: 5110 entries, 0 to 5109\n",
      "Data columns (total 12 columns):\n",
      " #   Column             Non-Null Count  Dtype  \n",
      "---  ------             --------------  -----  \n",
      " 0   id                 5110 non-null   int64  \n",
      " 1   gender             5110 non-null   object \n",
      " 2   age                5110 non-null   float64\n",
      " 3   hypertension       5110 non-null   int64  \n",
      " 4   heart_disease      5110 non-null   int64  \n",
      " 5   ever_married       5110 non-null   object \n",
      " 6   work_type          5110 non-null   object \n",
      " 7   Residence_type     5110 non-null   object \n",
      " 8   avg_glucose_level  5110 non-null   float64\n",
      " 9   bmi                4909 non-null   float64\n",
      " 10  smoking_status     5110 non-null   object \n",
      " 11  stroke             5110 non-null   int64  \n",
      "dtypes: float64(3), int64(4), object(5)\n",
      "memory usage: 479.2+ KB\n"
     ]
    }
   ],
   "source": [
    "# Melihat informasi dataset\n",
    "data.info()"
   ]
  },
  {
   "cell_type": "code",
   "execution_count": 33,
   "metadata": {},
   "outputs": [
    {
     "data": {
      "text/html": [
       "<div>\n",
       "<style scoped>\n",
       "    .dataframe tbody tr th:only-of-type {\n",
       "        vertical-align: middle;\n",
       "    }\n",
       "\n",
       "    .dataframe tbody tr th {\n",
       "        vertical-align: top;\n",
       "    }\n",
       "\n",
       "    .dataframe thead th {\n",
       "        text-align: right;\n",
       "    }\n",
       "</style>\n",
       "<table border=\"1\" class=\"dataframe\">\n",
       "  <thead>\n",
       "    <tr style=\"text-align: right;\">\n",
       "      <th></th>\n",
       "      <th>umur</th>\n",
       "      <th>gula_darah</th>\n",
       "      <th>bmi</th>\n",
       "    </tr>\n",
       "  </thead>\n",
       "  <tbody>\n",
       "    <tr>\n",
       "      <th>count</th>\n",
       "      <td>5109.000000</td>\n",
       "      <td>5109.000000</td>\n",
       "      <td>5109.000000</td>\n",
       "    </tr>\n",
       "    <tr>\n",
       "      <th>mean</th>\n",
       "      <td>43.229986</td>\n",
       "      <td>106.140399</td>\n",
       "      <td>28.894560</td>\n",
       "    </tr>\n",
       "    <tr>\n",
       "      <th>std</th>\n",
       "      <td>22.613575</td>\n",
       "      <td>45.285004</td>\n",
       "      <td>7.698235</td>\n",
       "    </tr>\n",
       "    <tr>\n",
       "      <th>min</th>\n",
       "      <td>0.080000</td>\n",
       "      <td>55.120000</td>\n",
       "      <td>10.300000</td>\n",
       "    </tr>\n",
       "    <tr>\n",
       "      <th>25%</th>\n",
       "      <td>25.000000</td>\n",
       "      <td>77.240000</td>\n",
       "      <td>23.800000</td>\n",
       "    </tr>\n",
       "    <tr>\n",
       "      <th>50%</th>\n",
       "      <td>45.000000</td>\n",
       "      <td>91.880000</td>\n",
       "      <td>28.400000</td>\n",
       "    </tr>\n",
       "    <tr>\n",
       "      <th>75%</th>\n",
       "      <td>61.000000</td>\n",
       "      <td>114.090000</td>\n",
       "      <td>32.800000</td>\n",
       "    </tr>\n",
       "    <tr>\n",
       "      <th>max</th>\n",
       "      <td>82.000000</td>\n",
       "      <td>271.740000</td>\n",
       "      <td>97.600000</td>\n",
       "    </tr>\n",
       "  </tbody>\n",
       "</table>\n",
       "</div>"
      ],
      "text/plain": [
       "              umur   gula_darah          bmi\n",
       "count  5109.000000  5109.000000  5109.000000\n",
       "mean     43.229986   106.140399    28.894560\n",
       "std      22.613575    45.285004     7.698235\n",
       "min       0.080000    55.120000    10.300000\n",
       "25%      25.000000    77.240000    23.800000\n",
       "50%      45.000000    91.880000    28.400000\n",
       "75%      61.000000   114.090000    32.800000\n",
       "max      82.000000   271.740000    97.600000"
      ]
     },
     "execution_count": 33,
     "metadata": {},
     "output_type": "execute_result"
    }
   ],
   "source": [
    "data.describe()"
   ]
  },
  {
   "cell_type": "code",
   "execution_count": 5,
   "metadata": {},
   "outputs": [],
   "source": [
    "# Merubah nama kolom agar lebih mudah dipahami\n",
    "\n",
    "data.columns = ['id','jenis_kelamin','umur','tekanan_darah_tinggi',\n",
    "                'penyakit_jantung','pernah_menikah','pekerjaan','tempat_tinggal',\n",
    "                'gula_darah','bmi','merokok','stroke']"
   ]
  },
  {
   "cell_type": "code",
   "execution_count": 6,
   "metadata": {},
   "outputs": [
    {
     "name": "stdout",
     "output_type": "stream",
     "text": [
      "<class 'pandas.core.frame.DataFrame'>\n",
      "RangeIndex: 5110 entries, 0 to 5109\n",
      "Data columns (total 12 columns):\n",
      " #   Column                Non-Null Count  Dtype  \n",
      "---  ------                --------------  -----  \n",
      " 0   id                    5110 non-null   int64  \n",
      " 1   jenis_kelamin         5110 non-null   object \n",
      " 2   umur                  5110 non-null   float64\n",
      " 3   tekanan_darah_tinggi  5110 non-null   int64  \n",
      " 4   penyakit_jantung      5110 non-null   int64  \n",
      " 5   pernah_menikah        5110 non-null   object \n",
      " 6   pekerjaan             5110 non-null   object \n",
      " 7   tempat_tinggal        5110 non-null   object \n",
      " 8   gula_darah            5110 non-null   float64\n",
      " 9   bmi                   4909 non-null   float64\n",
      " 10  merokok               5110 non-null   object \n",
      " 11  stroke                5110 non-null   int64  \n",
      "dtypes: float64(3), int64(4), object(5)\n",
      "memory usage: 479.2+ KB\n"
     ]
    }
   ],
   "source": [
    "# Mengecek perubahan informasi dataset\n",
    "\n",
    "data.info()"
   ]
  },
  {
   "cell_type": "code",
   "execution_count": 7,
   "metadata": {},
   "outputs": [
    {
     "data": {
      "text/html": [
       "<div>\n",
       "<style scoped>\n",
       "    .dataframe tbody tr th:only-of-type {\n",
       "        vertical-align: middle;\n",
       "    }\n",
       "\n",
       "    .dataframe tbody tr th {\n",
       "        vertical-align: top;\n",
       "    }\n",
       "\n",
       "    .dataframe thead th {\n",
       "        text-align: right;\n",
       "    }\n",
       "</style>\n",
       "<table border=\"1\" class=\"dataframe\">\n",
       "  <thead>\n",
       "    <tr style=\"text-align: right;\">\n",
       "      <th></th>\n",
       "      <th>id</th>\n",
       "      <th>jenis_kelamin</th>\n",
       "      <th>umur</th>\n",
       "      <th>tekanan_darah_tinggi</th>\n",
       "      <th>penyakit_jantung</th>\n",
       "      <th>pernah_menikah</th>\n",
       "      <th>pekerjaan</th>\n",
       "      <th>tempat_tinggal</th>\n",
       "      <th>gula_darah</th>\n",
       "      <th>bmi</th>\n",
       "      <th>merokok</th>\n",
       "      <th>stroke</th>\n",
       "    </tr>\n",
       "  </thead>\n",
       "  <tbody>\n",
       "    <tr>\n",
       "      <th>0</th>\n",
       "      <td>9046</td>\n",
       "      <td>Male</td>\n",
       "      <td>67.0</td>\n",
       "      <td>0</td>\n",
       "      <td>1</td>\n",
       "      <td>Yes</td>\n",
       "      <td>Private</td>\n",
       "      <td>Urban</td>\n",
       "      <td>228.69</td>\n",
       "      <td>36.6</td>\n",
       "      <td>formerly smoked</td>\n",
       "      <td>1</td>\n",
       "    </tr>\n",
       "    <tr>\n",
       "      <th>1</th>\n",
       "      <td>51676</td>\n",
       "      <td>Female</td>\n",
       "      <td>61.0</td>\n",
       "      <td>0</td>\n",
       "      <td>0</td>\n",
       "      <td>Yes</td>\n",
       "      <td>Self-employed</td>\n",
       "      <td>Rural</td>\n",
       "      <td>202.21</td>\n",
       "      <td>NaN</td>\n",
       "      <td>never smoked</td>\n",
       "      <td>1</td>\n",
       "    </tr>\n",
       "    <tr>\n",
       "      <th>2</th>\n",
       "      <td>31112</td>\n",
       "      <td>Male</td>\n",
       "      <td>80.0</td>\n",
       "      <td>0</td>\n",
       "      <td>1</td>\n",
       "      <td>Yes</td>\n",
       "      <td>Private</td>\n",
       "      <td>Rural</td>\n",
       "      <td>105.92</td>\n",
       "      <td>32.5</td>\n",
       "      <td>never smoked</td>\n",
       "      <td>1</td>\n",
       "    </tr>\n",
       "    <tr>\n",
       "      <th>3</th>\n",
       "      <td>60182</td>\n",
       "      <td>Female</td>\n",
       "      <td>49.0</td>\n",
       "      <td>0</td>\n",
       "      <td>0</td>\n",
       "      <td>Yes</td>\n",
       "      <td>Private</td>\n",
       "      <td>Urban</td>\n",
       "      <td>171.23</td>\n",
       "      <td>34.4</td>\n",
       "      <td>smokes</td>\n",
       "      <td>1</td>\n",
       "    </tr>\n",
       "    <tr>\n",
       "      <th>4</th>\n",
       "      <td>1665</td>\n",
       "      <td>Female</td>\n",
       "      <td>79.0</td>\n",
       "      <td>1</td>\n",
       "      <td>0</td>\n",
       "      <td>Yes</td>\n",
       "      <td>Self-employed</td>\n",
       "      <td>Rural</td>\n",
       "      <td>174.12</td>\n",
       "      <td>24.0</td>\n",
       "      <td>never smoked</td>\n",
       "      <td>1</td>\n",
       "    </tr>\n",
       "  </tbody>\n",
       "</table>\n",
       "</div>"
      ],
      "text/plain": [
       "      id jenis_kelamin  umur  tekanan_darah_tinggi  penyakit_jantung  \\\n",
       "0   9046          Male  67.0                     0                 1   \n",
       "1  51676        Female  61.0                     0                 0   \n",
       "2  31112          Male  80.0                     0                 1   \n",
       "3  60182        Female  49.0                     0                 0   \n",
       "4   1665        Female  79.0                     1                 0   \n",
       "\n",
       "  pernah_menikah      pekerjaan tempat_tinggal  gula_darah   bmi  \\\n",
       "0            Yes        Private          Urban      228.69  36.6   \n",
       "1            Yes  Self-employed          Rural      202.21   NaN   \n",
       "2            Yes        Private          Rural      105.92  32.5   \n",
       "3            Yes        Private          Urban      171.23  34.4   \n",
       "4            Yes  Self-employed          Rural      174.12  24.0   \n",
       "\n",
       "           merokok  stroke  \n",
       "0  formerly smoked       1  \n",
       "1     never smoked       1  \n",
       "2     never smoked       1  \n",
       "3           smokes       1  \n",
       "4     never smoked       1  "
      ]
     },
     "execution_count": 7,
     "metadata": {},
     "output_type": "execute_result"
    }
   ],
   "source": [
    "# Melihat gambaran 5 data awal\n",
    "\n",
    "data.head()"
   ]
  },
  {
   "cell_type": "code",
   "execution_count": 8,
   "metadata": {},
   "outputs": [
    {
     "name": "stdout",
     "output_type": "stream",
     "text": [
      "jenis_kelamin ['Male' 'Female' 'Other']\n",
      "tekanan_darah_tinggi [0 1]\n",
      "penyakit_jantung [1 0]\n",
      "pernah_menikah ['Yes' 'No']\n",
      "pekerjaan ['Private' 'Self-employed' 'Govt_job' 'children' 'Never_worked']\n",
      "tempat_tinggal ['Urban' 'Rural']\n",
      "merokok ['formerly smoked' 'never smoked' 'smokes' 'Unknown']\n",
      "stroke [1 0]\n"
     ]
    }
   ],
   "source": [
    "# Melihat nilai setiap kolom yang sifatnya kategorikal\n",
    "\n",
    "print(data.columns[1], data['jenis_kelamin'].unique())\n",
    "print(data.columns[3], data['tekanan_darah_tinggi'].unique())\n",
    "print(data.columns[4], data['penyakit_jantung'].unique())\n",
    "print(data.columns[5], data['pernah_menikah'].unique())\n",
    "print(data.columns[6], data['pekerjaan'].unique())\n",
    "print(data.columns[7], data['tempat_tinggal'].unique())\n",
    "print(data.columns[10], data['merokok'].unique())\n",
    "print(data.columns[11], data['stroke'].unique())"
   ]
  },
  {
   "cell_type": "code",
   "execution_count": 9,
   "metadata": {},
   "outputs": [],
   "source": [
    "# Merubah nilai kolom yang bersifat kategorikal atau binari menjadi bahasa yang lebih mudah dipahami\n",
    "\n",
    "data['jenis_kelamin'] = data['jenis_kelamin'].replace(['Male','Female','Other'],['Laki-laki','Perempuan','Lainnya'])\n",
    "data['tekanan_darah_tinggi'] = data['tekanan_darah_tinggi'].replace([0,1],['Tidak','Ya'])\n",
    "data['penyakit_jantung'] = data['penyakit_jantung'].replace([0,1],['Tidak','Ya'])\n",
    "data['pernah_menikah'] = data['pernah_menikah'].replace(['Yes','No'],['Ya','Tidak'])\n",
    "data['pekerjaan'] = data['pekerjaan'].replace(['Private','Self-employed','Govt_job','children','Never_worked'],['Swasta','Wiraswasta','PNS','Anak-anak','Belum Bekerja'])\n",
    "data['tempat_tinggal'] = data['tempat_tinggal'].replace(['Urban','Rural'],['Perkotaan','Pedesaan'])\n",
    "data['merokok'] = data['merokok'].replace(['formerly smoked','never smoked','smokes','Unknown'],['Dulu','Tidak Pernah','Ya','Tidak Tahu'])\n",
    "data['stroke'] = data['stroke'].replace([0,1],['Tidak','Ya'])"
   ]
  },
  {
   "cell_type": "code",
   "execution_count": 10,
   "metadata": {},
   "outputs": [
    {
     "data": {
      "text/html": [
       "<div>\n",
       "<style scoped>\n",
       "    .dataframe tbody tr th:only-of-type {\n",
       "        vertical-align: middle;\n",
       "    }\n",
       "\n",
       "    .dataframe tbody tr th {\n",
       "        vertical-align: top;\n",
       "    }\n",
       "\n",
       "    .dataframe thead th {\n",
       "        text-align: right;\n",
       "    }\n",
       "</style>\n",
       "<table border=\"1\" class=\"dataframe\">\n",
       "  <thead>\n",
       "    <tr style=\"text-align: right;\">\n",
       "      <th></th>\n",
       "      <th>id</th>\n",
       "      <th>jenis_kelamin</th>\n",
       "      <th>umur</th>\n",
       "      <th>tekanan_darah_tinggi</th>\n",
       "      <th>penyakit_jantung</th>\n",
       "      <th>pernah_menikah</th>\n",
       "      <th>pekerjaan</th>\n",
       "      <th>tempat_tinggal</th>\n",
       "      <th>gula_darah</th>\n",
       "      <th>bmi</th>\n",
       "      <th>merokok</th>\n",
       "      <th>stroke</th>\n",
       "    </tr>\n",
       "  </thead>\n",
       "  <tbody>\n",
       "    <tr>\n",
       "      <th>0</th>\n",
       "      <td>9046</td>\n",
       "      <td>Laki-laki</td>\n",
       "      <td>67.0</td>\n",
       "      <td>Tidak</td>\n",
       "      <td>Ya</td>\n",
       "      <td>Ya</td>\n",
       "      <td>Swasta</td>\n",
       "      <td>Perkotaan</td>\n",
       "      <td>228.69</td>\n",
       "      <td>36.6</td>\n",
       "      <td>Dulu</td>\n",
       "      <td>Ya</td>\n",
       "    </tr>\n",
       "    <tr>\n",
       "      <th>1</th>\n",
       "      <td>51676</td>\n",
       "      <td>Perempuan</td>\n",
       "      <td>61.0</td>\n",
       "      <td>Tidak</td>\n",
       "      <td>Tidak</td>\n",
       "      <td>Ya</td>\n",
       "      <td>Wiraswasta</td>\n",
       "      <td>Pedesaan</td>\n",
       "      <td>202.21</td>\n",
       "      <td>NaN</td>\n",
       "      <td>Tidak Pernah</td>\n",
       "      <td>Ya</td>\n",
       "    </tr>\n",
       "    <tr>\n",
       "      <th>2</th>\n",
       "      <td>31112</td>\n",
       "      <td>Laki-laki</td>\n",
       "      <td>80.0</td>\n",
       "      <td>Tidak</td>\n",
       "      <td>Ya</td>\n",
       "      <td>Ya</td>\n",
       "      <td>Swasta</td>\n",
       "      <td>Pedesaan</td>\n",
       "      <td>105.92</td>\n",
       "      <td>32.5</td>\n",
       "      <td>Tidak Pernah</td>\n",
       "      <td>Ya</td>\n",
       "    </tr>\n",
       "    <tr>\n",
       "      <th>3</th>\n",
       "      <td>60182</td>\n",
       "      <td>Perempuan</td>\n",
       "      <td>49.0</td>\n",
       "      <td>Tidak</td>\n",
       "      <td>Tidak</td>\n",
       "      <td>Ya</td>\n",
       "      <td>Swasta</td>\n",
       "      <td>Perkotaan</td>\n",
       "      <td>171.23</td>\n",
       "      <td>34.4</td>\n",
       "      <td>Ya</td>\n",
       "      <td>Ya</td>\n",
       "    </tr>\n",
       "    <tr>\n",
       "      <th>4</th>\n",
       "      <td>1665</td>\n",
       "      <td>Perempuan</td>\n",
       "      <td>79.0</td>\n",
       "      <td>Ya</td>\n",
       "      <td>Tidak</td>\n",
       "      <td>Ya</td>\n",
       "      <td>Wiraswasta</td>\n",
       "      <td>Pedesaan</td>\n",
       "      <td>174.12</td>\n",
       "      <td>24.0</td>\n",
       "      <td>Tidak Pernah</td>\n",
       "      <td>Ya</td>\n",
       "    </tr>\n",
       "  </tbody>\n",
       "</table>\n",
       "</div>"
      ],
      "text/plain": [
       "      id jenis_kelamin  umur tekanan_darah_tinggi penyakit_jantung  \\\n",
       "0   9046     Laki-laki  67.0                Tidak               Ya   \n",
       "1  51676     Perempuan  61.0                Tidak            Tidak   \n",
       "2  31112     Laki-laki  80.0                Tidak               Ya   \n",
       "3  60182     Perempuan  49.0                Tidak            Tidak   \n",
       "4   1665     Perempuan  79.0                   Ya            Tidak   \n",
       "\n",
       "  pernah_menikah   pekerjaan tempat_tinggal  gula_darah   bmi       merokok  \\\n",
       "0             Ya      Swasta      Perkotaan      228.69  36.6          Dulu   \n",
       "1             Ya  Wiraswasta       Pedesaan      202.21   NaN  Tidak Pernah   \n",
       "2             Ya      Swasta       Pedesaan      105.92  32.5  Tidak Pernah   \n",
       "3             Ya      Swasta      Perkotaan      171.23  34.4            Ya   \n",
       "4             Ya  Wiraswasta       Pedesaan      174.12  24.0  Tidak Pernah   \n",
       "\n",
       "  stroke  \n",
       "0     Ya  \n",
       "1     Ya  \n",
       "2     Ya  \n",
       "3     Ya  \n",
       "4     Ya  "
      ]
     },
     "execution_count": 10,
     "metadata": {},
     "output_type": "execute_result"
    }
   ],
   "source": [
    "# Mengecek perubahan isi dataset\n",
    "\n",
    "data.head()"
   ]
  },
  {
   "cell_type": "code",
   "execution_count": 11,
   "metadata": {},
   "outputs": [],
   "source": [
    "# Menghapus atribut yang tidak digunakan atau tidak dijadikan fitur\n",
    "\n",
    "data.drop('id', axis=1, inplace=True)"
   ]
  },
  {
   "cell_type": "code",
   "execution_count": 12,
   "metadata": {},
   "outputs": [],
   "source": [
    "# Mengabaikan atau membuang baris dataset yang mengandung jenis kelamin yang tidak jelas\n",
    "\n",
    "data = data[data.jenis_kelamin != 'Lainnya']"
   ]
  },
  {
   "cell_type": "code",
   "execution_count": 13,
   "metadata": {},
   "outputs": [
    {
     "name": "stdout",
     "output_type": "stream",
     "text": [
      "jenis_kelamin ['Laki-laki' 'Perempuan']\n"
     ]
    }
   ],
   "source": [
    "# Mengecek jenis nilai yang ada di kolom jenis kelamin\n",
    "\n",
    "print(data.columns[0], data['jenis_kelamin'].unique())"
   ]
  },
  {
   "cell_type": "code",
   "execution_count": 14,
   "metadata": {},
   "outputs": [
    {
     "data": {
      "text/plain": [
       "jenis_kelamin             0\n",
       "umur                      0\n",
       "tekanan_darah_tinggi      0\n",
       "penyakit_jantung          0\n",
       "pernah_menikah            0\n",
       "pekerjaan                 0\n",
       "tempat_tinggal            0\n",
       "gula_darah                0\n",
       "bmi                     201\n",
       "merokok                   0\n",
       "stroke                    0\n",
       "dtype: int64"
      ]
     },
     "execution_count": 14,
     "metadata": {},
     "output_type": "execute_result"
    }
   ],
   "source": [
    "# Mengecek kolom yang mengandung nilai null\n",
    "\n",
    "data.isnull().sum()"
   ]
  },
  {
   "cell_type": "code",
   "execution_count": 15,
   "metadata": {},
   "outputs": [],
   "source": [
    "# Mengisi data pada kolom bni dengan nilai rata-rata, mudah dan sepertinya masih relevan dengan kebutuhan data\n",
    "\n",
    "data['bmi'].fillna(data['bmi'].mean(), inplace=True)"
   ]
  },
  {
   "cell_type": "code",
   "execution_count": 16,
   "metadata": {},
   "outputs": [
    {
     "data": {
      "text/plain": [
       "jenis_kelamin           0\n",
       "umur                    0\n",
       "tekanan_darah_tinggi    0\n",
       "penyakit_jantung        0\n",
       "pernah_menikah          0\n",
       "pekerjaan               0\n",
       "tempat_tinggal          0\n",
       "gula_darah              0\n",
       "bmi                     0\n",
       "merokok                 0\n",
       "stroke                  0\n",
       "dtype: int64"
      ]
     },
     "execution_count": 16,
     "metadata": {},
     "output_type": "execute_result"
    }
   ],
   "source": [
    "# Memastikan tidak ada nilai null\n",
    "\n",
    "data.isnull().sum()"
   ]
  },
  {
   "cell_type": "code",
   "execution_count": 17,
   "metadata": {},
   "outputs": [
    {
     "data": {
      "image/png": "[encoded data removed]",
      "text/plain": [
       "<Figure size 1296x576 with 2 Axes>"
      ]
     },
     "metadata": {
      "needs_background": "light"
     },
     "output_type": "display_data"
    }
   ],
   "source": [
    "# Exploratory Data Analysis\n",
    "\n",
    "f,ax=plt.subplots(1,2,figsize=(18,8))\n",
    "data['stroke'].value_counts().plot.pie(explode=[0,0.1],autopct='%1.1f%%',ax=ax[0],shadow=True)\n",
    "ax[0].set_title('Stroke')\n",
    "ax[0].set_ylabel('')\n",
    "sns.countplot('stroke',data=data,ax=ax[1])\n",
    "ax[1].set_title('Stroke')\n",
    "plt.show()"
   ]
  },
  {
   "cell_type": "code",
   "execution_count": 18,
   "metadata": {},
   "outputs": [
    {
     "data": {
      "image/png": "[encoded data removed]",
      "text/plain": [
       "<Figure size 432x288 with 2 Axes>"
      ]
     },
     "metadata": {
      "needs_background": "light"
     },
     "output_type": "display_data"
    }
   ],
   "source": [
    "# Sekedar mengecek korelasi antara kolom/atribut yang bersifat numerik\n",
    "\n",
    "sns.heatmap(data.corr(), annot=True)\n",
    "plt.show()"
   ]
  },
  {
   "cell_type": "code",
   "execution_count": 20,
   "metadata": {},
   "outputs": [
    {
     "data": {
      "text/plain": [
       "Tidak    4860\n",
       "Ya        249\n",
       "Name: stroke, dtype: int64"
      ]
     },
     "execution_count": 20,
     "metadata": {},
     "output_type": "execute_result"
    }
   ],
   "source": [
    "# Melihat sebaran class, ternyata terdapat jumlah yang sangat \n",
    "# tidak seimbang antara class 'Ya' dan class 'Tidak'\n",
    "\n",
    "data['stroke'].value_counts()"
   ]
  },
  {
   "cell_type": "code",
   "execution_count": 21,
   "metadata": {},
   "outputs": [],
   "source": [
    "# Import modul untuk keperluan sampling ulang\n",
    "\n",
    "from sklearn.utils import resample"
   ]
  },
  {
   "cell_type": "code",
   "execution_count": 22,
   "metadata": {},
   "outputs": [
    {
     "data": {
      "text/plain": [
       "Tidak    4860\n",
       "Ya       4860\n",
       "Name: stroke, dtype: int64"
      ]
     },
     "execution_count": 22,
     "metadata": {},
     "output_type": "execute_result"
    }
   ],
   "source": [
    "# Memisahkan class yang mayoritas dan class yang minoritas\n",
    "data_mayor = data[data.stroke=='Tidak']\n",
    "data_minor = data[data.stroke=='Ya']\n",
    " \n",
    "# Menaikkan data class minoritas sama dengan mayoritas\n",
    "up_data_minor = resample(data_minor, \n",
    "                                 replace=True,     # sampel mengganti yang ada\n",
    "                                 n_samples=4860,    # jumlah class mayoritas\n",
    "                                 random_state=123) # produksi hasil\n",
    " \n",
    "# Menggabung class mayor dan class minor\n",
    "data_baru = pd.concat([data_mayor, up_data_minor])\n",
    " \n",
    "# Menampilkan jumlah nilai setiap class pada data yang baru\n",
    "data_baru.stroke.value_counts()"
   ]
  },
  {
   "cell_type": "code",
   "execution_count": 23,
   "metadata": {},
   "outputs": [
    {
     "data": {
      "image/png": "[encoded data removed]",
      "text/plain": [
       "<Figure size 864x360 with 2 Axes>"
      ]
     },
     "metadata": {
      "needs_background": "light"
     },
     "output_type": "display_data"
    }
   ],
   "source": [
    "# Menampilkan sebaran class dalam bentuk grafis\n",
    "\n",
    "f1,ax1=plt.subplots(1,2,figsize=(12,5))\n",
    "data_baru['stroke'].value_counts().plot.pie(explode=[0,0.1],autopct='%1.1f%%',ax=ax1[0],shadow=True)\n",
    "ax1[0].set_title('Stroke')\n",
    "ax1[0].set_ylabel('')\n",
    "sns.countplot('stroke',data=data_baru,ax=ax1[1])\n",
    "ax1[1].set_title('Stroke')\n",
    "plt.show()"
   ]
  },
  {
   "cell_type": "code",
   "execution_count": 24,
   "metadata": {},
   "outputs": [],
   "source": [
    "# Karena terdapat banyak data bersifat kategorikal, maka ini harus ditangani dengan cara berikut\n",
    "# Kolom yang bersifat kategorikal akan di-encode. Saya memilih menggunakan Catboost untuk klasifikasi.\n",
    "# Sehingga kolom-kolom tersebut harus dimasukkan dalam catFeatures.\n",
    "\n",
    "cat_features = [0,2,3,4,5,6,9]"
   ]
  },
  {
   "cell_type": "code",
   "execution_count": 25,
   "metadata": {},
   "outputs": [],
   "source": [
    "# Memisahkan data menjadi X (input) dan y (label/class)\n",
    "\n",
    "X = data_baru.drop([\"stroke\"], axis=1)\n",
    "y = data_baru[\"stroke\"]"
   ]
  },
  {
   "cell_type": "code",
   "execution_count": 26,
   "metadata": {},
   "outputs": [],
   "source": [
    "# Membagi data menjadi train dan test\n",
    "# Untuk test_size disetting 0.2 karena data relatif besar\n",
    "\n",
    "from sklearn.model_selection import train_test_split\n",
    "X_train, X_test, y_train, y_test = train_test_split(X, y, test_size=0.2, random_state=42)"
   ]
  },
  {
   "cell_type": "code",
   "execution_count": 27,
   "metadata": {},
   "outputs": [
    {
     "data": {
      "text/html": [
       "<div>\n",
       "<style scoped>\n",
       "    .dataframe tbody tr th:only-of-type {\n",
       "        vertical-align: middle;\n",
       "    }\n",
       "\n",
       "    .dataframe tbody tr th {\n",
       "        vertical-align: top;\n",
       "    }\n",
       "\n",
       "    .dataframe thead th {\n",
       "        text-align: right;\n",
       "    }\n",
       "</style>\n",
       "<table border=\"1\" class=\"dataframe\">\n",
       "  <thead>\n",
       "    <tr style=\"text-align: right;\">\n",
       "      <th></th>\n",
       "      <th>jenis_kelamin</th>\n",
       "      <th>umur</th>\n",
       "      <th>tekanan_darah_tinggi</th>\n",
       "      <th>penyakit_jantung</th>\n",
       "      <th>pernah_menikah</th>\n",
       "      <th>pekerjaan</th>\n",
       "      <th>tempat_tinggal</th>\n",
       "      <th>gula_darah</th>\n",
       "      <th>bmi</th>\n",
       "      <th>merokok</th>\n",
       "    </tr>\n",
       "  </thead>\n",
       "  <tbody>\n",
       "    <tr>\n",
       "      <th>500</th>\n",
       "      <td>Perempuan</td>\n",
       "      <td>56.00</td>\n",
       "      <td>Tidak</td>\n",
       "      <td>Tidak</td>\n",
       "      <td>Ya</td>\n",
       "      <td>Swasta</td>\n",
       "      <td>Perkotaan</td>\n",
       "      <td>77.49</td>\n",
       "      <td>36.00000</td>\n",
       "      <td>Dulu</td>\n",
       "    </tr>\n",
       "    <tr>\n",
       "      <th>51</th>\n",
       "      <td>Laki-laki</td>\n",
       "      <td>78.00</td>\n",
       "      <td>Ya</td>\n",
       "      <td>Tidak</td>\n",
       "      <td>Ya</td>\n",
       "      <td>Swasta</td>\n",
       "      <td>Perkotaan</td>\n",
       "      <td>75.32</td>\n",
       "      <td>28.89456</td>\n",
       "      <td>Dulu</td>\n",
       "    </tr>\n",
       "    <tr>\n",
       "      <th>3715</th>\n",
       "      <td>Perempuan</td>\n",
       "      <td>1.88</td>\n",
       "      <td>Tidak</td>\n",
       "      <td>Tidak</td>\n",
       "      <td>Tidak</td>\n",
       "      <td>Anak-anak</td>\n",
       "      <td>Pedesaan</td>\n",
       "      <td>100.74</td>\n",
       "      <td>18.60000</td>\n",
       "      <td>Tidak Tahu</td>\n",
       "    </tr>\n",
       "    <tr>\n",
       "      <th>3004</th>\n",
       "      <td>Perempuan</td>\n",
       "      <td>10.00</td>\n",
       "      <td>Tidak</td>\n",
       "      <td>Tidak</td>\n",
       "      <td>Tidak</td>\n",
       "      <td>Anak-anak</td>\n",
       "      <td>Pedesaan</td>\n",
       "      <td>93.29</td>\n",
       "      <td>20.60000</td>\n",
       "      <td>Tidak Tahu</td>\n",
       "    </tr>\n",
       "    <tr>\n",
       "      <th>215</th>\n",
       "      <td>Perempuan</td>\n",
       "      <td>79.00</td>\n",
       "      <td>Tidak</td>\n",
       "      <td>Ya</td>\n",
       "      <td>Tidak</td>\n",
       "      <td>Swasta</td>\n",
       "      <td>Perkotaan</td>\n",
       "      <td>205.33</td>\n",
       "      <td>31.00000</td>\n",
       "      <td>Ya</td>\n",
       "    </tr>\n",
       "    <tr>\n",
       "      <th>...</th>\n",
       "      <td>...</td>\n",
       "      <td>...</td>\n",
       "      <td>...</td>\n",
       "      <td>...</td>\n",
       "      <td>...</td>\n",
       "      <td>...</td>\n",
       "      <td>...</td>\n",
       "      <td>...</td>\n",
       "      <td>...</td>\n",
       "      <td>...</td>\n",
       "    </tr>\n",
       "    <tr>\n",
       "      <th>97</th>\n",
       "      <td>Laki-laki</td>\n",
       "      <td>58.00</td>\n",
       "      <td>Tidak</td>\n",
       "      <td>Ya</td>\n",
       "      <td>Ya</td>\n",
       "      <td>Swasta</td>\n",
       "      <td>Pedesaan</td>\n",
       "      <td>240.59</td>\n",
       "      <td>31.40000</td>\n",
       "      <td>Ya</td>\n",
       "    </tr>\n",
       "    <tr>\n",
       "      <th>13</th>\n",
       "      <td>Laki-laki</td>\n",
       "      <td>78.00</td>\n",
       "      <td>Tidak</td>\n",
       "      <td>Ya</td>\n",
       "      <td>Ya</td>\n",
       "      <td>Swasta</td>\n",
       "      <td>Perkotaan</td>\n",
       "      <td>219.84</td>\n",
       "      <td>28.89456</td>\n",
       "      <td>Tidak Tahu</td>\n",
       "    </tr>\n",
       "    <tr>\n",
       "      <th>182</th>\n",
       "      <td>Perempuan</td>\n",
       "      <td>32.00</td>\n",
       "      <td>Tidak</td>\n",
       "      <td>Tidak</td>\n",
       "      <td>Ya</td>\n",
       "      <td>Swasta</td>\n",
       "      <td>Pedesaan</td>\n",
       "      <td>76.13</td>\n",
       "      <td>29.90000</td>\n",
       "      <td>Ya</td>\n",
       "    </tr>\n",
       "    <tr>\n",
       "      <th>1810</th>\n",
       "      <td>Perempuan</td>\n",
       "      <td>78.00</td>\n",
       "      <td>Tidak</td>\n",
       "      <td>Ya</td>\n",
       "      <td>Ya</td>\n",
       "      <td>Wiraswasta</td>\n",
       "      <td>Pedesaan</td>\n",
       "      <td>88.90</td>\n",
       "      <td>34.30000</td>\n",
       "      <td>Tidak Tahu</td>\n",
       "    </tr>\n",
       "    <tr>\n",
       "      <th>3321</th>\n",
       "      <td>Laki-laki</td>\n",
       "      <td>1.88</td>\n",
       "      <td>Tidak</td>\n",
       "      <td>Tidak</td>\n",
       "      <td>Tidak</td>\n",
       "      <td>Anak-anak</td>\n",
       "      <td>Perkotaan</td>\n",
       "      <td>81.42</td>\n",
       "      <td>13.50000</td>\n",
       "      <td>Tidak Tahu</td>\n",
       "    </tr>\n",
       "  </tbody>\n",
       "</table>\n",
       "<p>1944 rows × 10 columns</p>\n",
       "</div>"
      ],
      "text/plain": [
       "     jenis_kelamin   umur tekanan_darah_tinggi penyakit_jantung  \\\n",
       "500      Perempuan  56.00                Tidak            Tidak   \n",
       "51       Laki-laki  78.00                   Ya            Tidak   \n",
       "3715     Perempuan   1.88                Tidak            Tidak   \n",
       "3004     Perempuan  10.00                Tidak            Tidak   \n",
       "215      Perempuan  79.00                Tidak               Ya   \n",
       "...            ...    ...                  ...              ...   \n",
       "97       Laki-laki  58.00                Tidak               Ya   \n",
       "13       Laki-laki  78.00                Tidak               Ya   \n",
       "182      Perempuan  32.00                Tidak            Tidak   \n",
       "1810     Perempuan  78.00                Tidak               Ya   \n",
       "3321     Laki-laki   1.88                Tidak            Tidak   \n",
       "\n",
       "     pernah_menikah   pekerjaan tempat_tinggal  gula_darah       bmi  \\\n",
       "500              Ya      Swasta      Perkotaan       77.49  36.00000   \n",
       "51               Ya      Swasta      Perkotaan       75.32  28.89456   \n",
       "3715          Tidak   Anak-anak       Pedesaan      100.74  18.60000   \n",
       "3004          Tidak   Anak-anak       Pedesaan       93.29  20.60000   \n",
       "215           Tidak      Swasta      Perkotaan      205.33  31.00000   \n",
       "...             ...         ...            ...         ...       ...   \n",
       "97               Ya      Swasta       Pedesaan      240.59  31.40000   \n",
       "13               Ya      Swasta      Perkotaan      219.84  28.89456   \n",
       "182              Ya      Swasta       Pedesaan       76.13  29.90000   \n",
       "1810             Ya  Wiraswasta       Pedesaan       88.90  34.30000   \n",
       "3321          Tidak   Anak-anak      Perkotaan       81.42  13.50000   \n",
       "\n",
       "         merokok  \n",
       "500         Dulu  \n",
       "51          Dulu  \n",
       "3715  Tidak Tahu  \n",
       "3004  Tidak Tahu  \n",
       "215           Ya  \n",
       "...          ...  \n",
       "97            Ya  \n",
       "13    Tidak Tahu  \n",
       "182           Ya  \n",
       "1810  Tidak Tahu  \n",
       "3321  Tidak Tahu  \n",
       "\n",
       "[1944 rows x 10 columns]"
      ]
     },
     "execution_count": 27,
     "metadata": {},
     "output_type": "execute_result"
    }
   ],
   "source": [
    "X_test"
   ]
  },
  {
   "cell_type": "code",
   "execution_count": 28,
   "metadata": {},
   "outputs": [
    {
     "data": {
      "text/plain": [
       "500     Tidak\n",
       "51         Ya\n",
       "3715    Tidak\n",
       "3004    Tidak\n",
       "215        Ya\n",
       "        ...  \n",
       "97         Ya\n",
       "13         Ya\n",
       "182        Ya\n",
       "1810    Tidak\n",
       "3321    Tidak\n",
       "Name: stroke, Length: 1944, dtype: object"
      ]
     },
     "execution_count": 28,
     "metadata": {},
     "output_type": "execute_result"
    }
   ],
   "source": [
    "y_test"
   ]
  },
  {
   "cell_type": "code",
   "execution_count": 29,
   "metadata": {},
   "outputs": [
    {
     "name": "stdout",
     "output_type": "stream",
     "text": [
      "Model CatBoost sudah siap : True\n"
     ]
    }
   ],
   "source": [
    "# Import CatboostClassifier\n",
    "# Saya memilih untuk menggunakan Catboost karena ini adalah algoritma yang paling baik menurut sebuah penelitian\n",
    "# Dengan algoritma ini Saya dapat menggunakannya untuk klasifikasi.\n",
    "# Memiliki kelebihan, mudah dan bagus untuk data yang bersifat kategorikal.\n",
    "# Dengan setting default, algoritma ini sudah cukup mumpuni untuk melakukan klasifikasi\n",
    "\n",
    "from catboost import CatBoostClassifier\n",
    "clf = CatBoostClassifier()\n",
    "\n",
    "# Setting fitur yang bersifat kategorikal dengan variable cat_features.\n",
    "clf.fit(X_train, y_train, \n",
    "        cat_features=cat_features, \n",
    "        eval_set=(X_test, y_test), \n",
    "        verbose=False\n",
    ")\n",
    "print('Model CatBoost sudah siap : ' + str(clf.is_fitted()))\n",
    "\n",
    "# Prediksi pada data test\n",
    "y_pred = clf.predict(X_test)"
   ]
  },
  {
   "cell_type": "code",
   "execution_count": 30,
   "metadata": {},
   "outputs": [
    {
     "name": "stdout",
     "output_type": "stream",
     "text": [
      "Akurasi :  0.9722222222222222\n"
     ]
    }
   ],
   "source": [
    "# Import accuracy_score dari modul sklearn.metrics untuk menghitung akurasi model\n",
    "# Digunakan accuracy_score karena paling sering dipakai untuk mengukur nilai akurasi\n",
    "\n",
    "from sklearn.metrics import accuracy_score\n",
    "acc_score = accuracy_score(y_test, y_pred)\n",
    "print(\"Akurasi : \", acc_score)"
   ]
  },
  {
   "cell_type": "code",
   "execution_count": 31,
   "metadata": {},
   "outputs": [
    {
     "name": "stdout",
     "output_type": "stream",
     "text": [
      "[[938  54]\n",
      " [  0 952]]\n"
     ]
    },
    {
     "data": {
      "text/plain": [
       "Text(0.5, 257.44, 'Prediksi')"
      ]
     },
     "execution_count": 31,
     "metadata": {},
     "output_type": "execute_result"
    },
    {
     "data": {
      "image/png": "[encoded data removed]",
      "text/plain": [
       "<Figure size 432x288 with 2 Axes>"
      ]
     },
     "metadata": {
      "needs_background": "light"
     },
     "output_type": "display_data"
    }
   ],
   "source": [
    "# Membuat COnfusion Matriks untuk melihat dengan jelas hasil tes model\n",
    "from sklearn import metrics\n",
    "\n",
    "cnf_matrix = metrics.confusion_matrix(y_test, y_pred)\n",
    "print(cnf_matrix)\n",
    "\n",
    "class_names=['Tidak','Ya'] # nama class\n",
    "fig, ax = plt.subplots()\n",
    "\n",
    "# Membuat heatmap dengan seaborn dan matplotlib untuk menampilkan Cunfusion Matriks secara grafis\n",
    "sns.heatmap(pd.DataFrame(cnf_matrix), annot=True, cmap=\"YlGnBu\" ,fmt='g', xticklabels=class_names,yticklabels=class_names)\n",
    "ax.xaxis.set_label_position(\"top\")\n",
    "plt.tight_layout()\n",
    "plt.title('Confusion Matrix - Penyakit Stroke', y=1.1)\n",
    "plt.ylabel('Fakta')\n",
    "plt.xlabel('Prediksi')"
   ]
  },
  {
   "cell_type": "code",
   "execution_count": 32,
   "metadata": {},
   "outputs": [],
   "source": [
    "# Menyimpan model menjadi sebuah file pikle yang dapat digunakan untuk deployment menjadi sebuah aplikasi\n",
    "\n",
    "pd.to_pickle(clf,'model-arif.pkl')"
   ]
  }
 ],
 "metadata": {
  "kernelspec": {
   "display_name": "Python 3",
   "language": "python",
   "name": "python3"
  },
  "language_info": {
   "codemirror_mode": {
    "name": "ipython",
    "version": 3
   },
   "file_extension": ".py",
   "mimetype": "text/x-python",
   "name": "python",
   "nbconvert_exporter": "python",
   "pygments_lexer": "ipython3",
   "version": "3.8.8"
  },
  "vscode": {
   "interpreter": {
    "hash": "867f3b752c48c10c6d317533ecef4593ba5d8a4e0987023d89afe3818cadcfc9"
   }
  }
 },
 "nbformat": 4,
 "nbformat_minor": 2
}
